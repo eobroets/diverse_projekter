{
 "cells": [
  {
   "cell_type": "code",
   "execution_count": 3,
   "metadata": {},
   "outputs": [],
   "source": [
    "%matplotlib inline\n",
    "import torch\n",
    "import torch.nn as nn\n",
    "import torch.nn.functional as F\n",
    "import torch.optim as optim\n",
    "import torchvision\n",
    "from   torchvision import datasets, transforms\n",
    "import matplotlib.pyplot as plt\n",
    "import matplotlib.image as mpimg\n",
    "import numpy as np"
   ]
  },
  {
   "cell_type": "code",
   "execution_count": 2,
   "metadata": {},
   "outputs": [],
   "source": [
    "#signal to noise ratio\n",
    "def SNR(x_ref,x):\n",
    "    x_ref_vect = x_ref.flatten()\n",
    "    x_vect = x.flatten()\n",
    "    res=-20*np.log10(np.linalg.norm(x_ref_vect-x_vect)/np.linalg.norm(x_vect)+1e-15)\n",
    "    return res"
   ]
  },
  {
   "cell_type": "code",
   "execution_count": 5,
   "metadata": {},
   "outputs": [],
   "source": [
    "# parameters\n",
    "\n",
    "I_WIDTH=I_HEIGTH=96\n",
    "N_CHANNELS=1\n",
    "I_SIZE=I_WIDTH*I_HEIGTH*N_CHANNELS\n",
    "encode_size=int(I_SIZE/10)\n",
    "             \n",
    "batch_size=128"
   ]
  },
  {
   "cell_type": "code",
   "execution_count": 7,
   "metadata": {},
   "outputs": [
    {
     "name": "stdout",
     "output_type": "stream",
     "text": [
      "Files already downloaded and verified\n",
      "Files already downloaded and verified\n"
     ]
    }
   ],
   "source": [
    "# Telecharger le jeu d'entrainement et de test\n",
    "\n",
    "transform = transforms.Compose(\n",
    "    [transforms.Grayscale(1),\n",
    "     transforms.ToTensor()])\n",
    "trainset = torchvision.datasets.STL10(root='./data', split='train', transform=transform,download=True)\n",
    "trainloader = torch.utils.data.DataLoader(trainset, batch_size,shuffle=True, num_workers=2)\n",
    "testset = torchvision.datasets.STL10(root='./data', split='test', transform=transform,download=True)\n",
    "testloader = torch.utils.data.DataLoader(testset, batch_size,shuffle=False, num_workers=2)\n",
    "     "
   ]
  },
  {
   "cell_type": "code",
   "execution_count": 10,
   "metadata": {},
   "outputs": [],
   "source": [
    "# Architecture de l'encoder\n",
    "\n",
    "class Auto_Encoder(nn.Module):\n",
    "    def __init__(self,code_size):\n",
    "        super(Auto_Encoder,self).__init__()\n",
    "        \n",
    "        self.code_size = code_size\n",
    "        self.encode0=nn.Sequential(\n",
    "            nn.Conv2d(N_CHANNELS,20,9),\n",
    "            nn.ReLU(),\n",
    "            nn.MaxPool2d(2,2),\n",
    "            nn.Conv2d(20,30,9),\n",
    "            nn.ReLU(),\n",
    "            nn.MaxPool2d(2,2),\n",
    "        )\n",
    "        self._fc1encoder=nn.Linear(30*18*18,5000)\n",
    "        self._fc2encoder=nn.Linear(5000,self.code_size)\n",
    "        self._fc1decoder=nn.Linear(self.code_size,5000)\n",
    "        self._fc2decoder=nn.Linear(5000,I_SIZE)\n",
    "        \n",
    "    def encode(self,x_0):\n",
    "        x=self.encode0(x_0)\n",
    "        x = x.view(-1,30*18*18)\n",
    "        x = F.relu(self._fc1encoder(x))\n",
    "        x = self._fc2encoder(x)\n",
    "        return x\n",
    "    \n",
    "    def decode(self,x_0):\n",
    "        x=F.relu(self._fc1decoder(x_0))\n",
    "        x=torch.sigmoid(self._fc2decoder(x))\n",
    "        x=x.view([x_0.size(0),N_CHANNELS,I_WIDTH,I_HEIGTH])\n",
    "        return x\n",
    "    def forward(self,x):\n",
    "        encode=self.encode(x)\n",
    "        decode=self.decode(encode)\n",
    "        return decode\n",
    "    \n"
   ]
  },
  {
   "cell_type": "code",
   "execution_count": 11,
   "metadata": {},
   "outputs": [],
   "source": [
    "AE=Auto_Encoder(encode_size)\n",
    "criterion = nn.MSELoss()\n",
    "optimizer = optim.Adam(AE.parameters(), lr=0.001)\n",
    "items=len(trainloader)\n"
   ]
  },
  {
   "cell_type": "code",
   "execution_count": 6,
   "metadata": {},
   "outputs": [
    {
     "name": "stdout",
     "output_type": "stream",
     "text": [
      "epoch n 0.00\n"
     ]
    },
    {
     "ename": "NameError",
     "evalue": "name 'trainloader' is not defined",
     "output_type": "error",
     "traceback": [
      "\u001b[1;31m---------------------------------------------------------------------------\u001b[0m",
      "\u001b[1;31mNameError\u001b[0m                                 Traceback (most recent call last)",
      "\u001b[1;32m<ipython-input-6-a39c8693db60>\u001b[0m in \u001b[0;36m<module>\u001b[1;34m\u001b[0m\n\u001b[0;32m      5\u001b[0m     \u001b[0mrunning_loss\u001b[0m\u001b[1;33m=\u001b[0m\u001b[1;36m0\u001b[0m\u001b[1;33m\u001b[0m\u001b[1;33m\u001b[0m\u001b[0m\n\u001b[0;32m      6\u001b[0m     \u001b[0mprint\u001b[0m\u001b[1;33m(\u001b[0m\u001b[1;34m\"epoch n %.2f\"\u001b[0m\u001b[1;33m%\u001b[0m\u001b[0mj\u001b[0m\u001b[1;33m)\u001b[0m\u001b[1;33m\u001b[0m\u001b[1;33m\u001b[0m\u001b[0m\n\u001b[1;32m----> 7\u001b[1;33m     \u001b[1;32mfor\u001b[0m \u001b[0mi\u001b[0m\u001b[1;33m,\u001b[0m\u001b[1;33m(\u001b[0m\u001b[0mdata\u001b[0m\u001b[1;33m,\u001b[0m \u001b[0m_\u001b[0m\u001b[1;33m)\u001b[0m \u001b[1;32min\u001b[0m \u001b[0menumerate\u001b[0m\u001b[1;33m(\u001b[0m\u001b[0mtrainloader\u001b[0m\u001b[1;33m)\u001b[0m\u001b[1;33m:\u001b[0m\u001b[1;33m\u001b[0m\u001b[1;33m\u001b[0m\u001b[0m\n\u001b[0m\u001b[0;32m      8\u001b[0m \u001b[1;33m\u001b[0m\u001b[0m\n\u001b[0;32m      9\u001b[0m         \u001b[1;31m# zero the parameter gradients\u001b[0m\u001b[1;33m\u001b[0m\u001b[1;33m\u001b[0m\u001b[1;33m\u001b[0m\u001b[0m\n",
      "\u001b[1;31mNameError\u001b[0m: name 'trainloader' is not defined"
     ]
    }
   ],
   "source": [
    "## APPRENTISSAGE\n",
    "n_epochs=100\n",
    "loss_history=[] \n",
    "for j in range(n_epochs):\n",
    "    running_loss=0\n",
    "    print(\"epoch n %.2f\"%j)\n",
    "    for i,(data, _) in enumerate(trainloader):\n",
    "        \n",
    "        # zero the parameter gradients\n",
    "        optimizer.zero_grad()\n",
    "\n",
    "        # forward + backward + optimize\n",
    "        output = AE(data)\n",
    "        loss = criterion(output, data)\n",
    "        #loss_history.append(loss.data[0])\n",
    "        loss.backward()\n",
    "        optimizer.step()\n",
    "\n",
    "        # print statistics\n",
    "        running_loss += loss.item()\n",
    "        if i%(items/5)-1==0:\n",
    "            print(\"%.3f\"%(i*100/items) + \" done\")\n",
    "    print(\"Avg loss for this epoch : %.5f\"%(running_loss/items))\n",
    "    loss_history.append(running_loss/items)"
   ]
  },
  {
   "cell_type": "code",
   "execution_count": 43,
   "metadata": {},
   "outputs": [
    {
     "data": {
      "image/png": "[encoded data removed]",
      "text/plain": [
       "<Figure size 432x288 with 1 Axes>"
      ]
     },
     "metadata": {
      "needs_background": "light"
     },
     "output_type": "display_data"
    }
   ],
   "source": [
    "plt.plot(loss_history)\n",
    "plt.show()"
   ]
  },
  {
   "cell_type": "code",
   "execution_count": null,
   "metadata": {},
   "outputs": [],
   "source": [
    "import random\n",
    "\n",
    "Ratio=10\n",
    "while Ratio < 20:\n",
    "    test_image = random.choice(testset)[0]\n",
    "    test_image = test_image.view([1, 1, I_WIDTH, I_HEIGTH])\n",
    "    test_reconst = AE(test_image.cuda())\n",
    "    \n",
    "    Ratio=SNR(test_image.cpu().detach().numpy(),test_reconst.cpu().detach().numpy())\n",
    "\n",
    "\n",
    "\n",
    "print(\"SNR: %4f\" %Ratio)\n",
    "torchvision.utils.save_image(test_image.data, 'orig.png')\n",
    "torchvision.utils.save_image(test_reconst.data, 'reconst.png')\n",
    "OG= mpimg.imread(\"orig.png\",format=\"png\")\n",
    "Reconst=mpimg.imread(\"reconst.png\",format=\"png\")\n",
    "plt.subplot(1,2,1)\n",
    "plt.title(\"Original\")\n",
    "plt.imshow(OG)\n",
    "plt.subplot(1,2,2)\n",
    "plt.title(\"Reconstructed\")\n",
    "plt.imshow(Reconst)\n",
    "plt.show()"
   ]
  },
  {
   "cell_type": "code",
   "execution_count": 41,
   "metadata": {},
   "outputs": [],
   "source": [
    "'''import pickle\n",
    "pickle.dump(AE,open('./test.pth','wb'))\n",
    "'''"
   ]
  }
 ],
 "metadata": {
  "kernelspec": {
   "display_name": "Python 3",
   "language": "python",
   "name": "python3"
  },
  "language_info": {
   "codemirror_mode": {
    "name": "ipython",
    "version": 3
   },
   "file_extension": ".py",
   "mimetype": "text/x-python",
   "name": "python",
   "nbconvert_exporter": "python",
   "pygments_lexer": "ipython3",
   "version": "3.7.1"
  }
 },
 "nbformat": 4,
 "nbformat_minor": 2
}
